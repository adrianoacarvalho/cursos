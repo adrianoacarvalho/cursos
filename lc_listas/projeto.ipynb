{
 "cells": [
  {
   "cell_type": "code",
   "execution_count": 1,
   "metadata": {
    "executionInfo": {
     "elapsed": 6,
     "status": "ok",
     "timestamp": 1642879968086,
     "user": {
      "displayName": "Roberto Maia Filho",
      "photoUrl": "https://lh3.googleusercontent.com/a-/AOh14GiJyJOKk71ONv8dkTiRt8lNYmbHeHeIgIu4raE5=s64",
      "userId": "17417465616361153461"
     },
     "user_tz": 180
    },
    "id": "lxl9xfmaY1lQ"
   },
   "outputs": [],
   "source": [
    "import json\n",
    "import os.path\n",
    "import sys\n",
    "\n",
    "from xml.dom.minidom import ReadOnlySequentialNamedNodeMap\n",
    "\n",
    "versao =\"1.0b\""
   ]
  },
  {
   "cell_type": "code",
   "execution_count": 2,
   "metadata": {
    "colab": {
     "base_uri": "https://localhost:8080/"
    },
    "executionInfo": {
     "elapsed": 787,
     "status": "ok",
     "timestamp": 1642879971325,
     "user": {
      "displayName": "Roberto Maia Filho",
      "photoUrl": "https://lh3.googleusercontent.com/a-/AOh14GiJyJOKk71ONv8dkTiRt8lNYmbHeHeIgIu4raE5=s64",
      "userId": "17417465616361153461"
     },
     "user_tz": 180
    },
    "id": "VBjDufrYY1lY",
    "outputId": "08920142-6182-4fdc-c866-3d542c48e862"
   },
   "outputs": [],
   "source": [
    "def obter_dados():\n",
    "    '''\n",
    "    Essa função carrega os dados dos produtos e retorna uma lista de dicionários, onde cada dicionário representa um produto.\n",
    "    NÃO MODIFIQUE essa função.\n",
    "    '''\n",
    "    with open(os.path.join(sys.path[0], 'dados.json'), 'r') as arq:\n",
    "        dados = json.loads(arq.read())\n",
    "    return dados"
   ]
  },
  {
   "cell_type": "code",
   "execution_count": 3,
   "metadata": {
    "executionInfo": {
     "elapsed": 460,
     "status": "ok",
     "timestamp": 1642879977675,
     "user": {
      "displayName": "Roberto Maia Filho",
      "photoUrl": "https://lh3.googleusercontent.com/a-/AOh14GiJyJOKk71ONv8dkTiRt8lNYmbHeHeIgIu4raE5=s64",
      "userId": "17417465616361153461"
     },
     "user_tz": 180
    },
    "id": "uQAaXk6VY1la"
   },
   "outputs": [],
   "source": [
    "def listar_categorias(dados):\n",
    "    '''\n",
    "    O parâmetro \"dados\" deve ser uma lista de dicionários representando os produtos.\n",
    "    Essa função deverá retornar uma lista contendo todas as categorias dos diferentes produtos.\n",
    "    Cuidado para não retornar categorias repetidas.    \n",
    "    '''\n",
    "    categorias = []\n",
    "    \n",
    "    for dado in dados:\n",
    "       if dado['categoria'] not in categorias: categorias.append(dado['categoria'])\n",
    "\n",
    "    categorias.sort()\n",
    "\n",
    "    return categorias"
   ]
  },
  {
   "cell_type": "code",
   "execution_count": 4,
   "metadata": {
    "executionInfo": {
     "elapsed": 436,
     "status": "ok",
     "timestamp": 1642886583014,
     "user": {
      "displayName": "Roberto Maia Filho",
      "photoUrl": "https://lh3.googleusercontent.com/a-/AOh14GiJyJOKk71ONv8dkTiRt8lNYmbHeHeIgIu4raE5=s64",
      "userId": "17417465616361153461"
     },
     "user_tz": 180
    },
    "id": "cGPSYa8sY1lc"
   },
   "outputs": [],
   "source": [
    "def listar_por_categoria(dados, categoria):\n",
    "    '''\n",
    "    O parâmetro \"dados\" deve ser uma lista de dicionários representando os produtos.\n",
    "    O parâmetro \"categoria\" é uma string contendo o nome de uma categoria.\n",
    "    Essa função deverá retornar uma lista contendo todos os produtos pertencentes à categoria dada.\n",
    "    '''\n",
    "   \n",
    "    lista = []\n",
    "    \n",
    "    for dado in dados:\n",
    "       if dado['categoria'] == categoria.lower(): \n",
    "          lista.append(dado)\n",
    "\n",
    "    return lista\n"
   ]
  },
  {
   "cell_type": "code",
   "execution_count": 5,
   "metadata": {
    "executionInfo": {
     "elapsed": 474,
     "status": "ok",
     "timestamp": 1642880265205,
     "user": {
      "displayName": "Roberto Maia Filho",
      "photoUrl": "https://lh3.googleusercontent.com/a-/AOh14GiJyJOKk71ONv8dkTiRt8lNYmbHeHeIgIu4raE5=s64",
      "userId": "17417465616361153461"
     },
     "user_tz": 180
    },
    "id": "PUxWH7QFY1ld"
   },
   "outputs": [],
   "source": [
    "def produto_mais_caro(dados, categoria):\n",
    "    '''\n",
    "    O parâmetro \"dados\" deve ser uma lista de dicionários representando os produtos.\n",
    "    O parâmetro \"categoria\" é uma string contendo o nome de uma categoria.\n",
    "    Essa função deverá retornar um dicionário representando o produto mais caro da categoria dada.\n",
    "    '''\n",
    "    \n",
    "    lista_categoria = listar_por_categoria(dados, categoria)\n",
    "    \n",
    "    resultado = lista_categoria[0]\n",
    "    \n",
    "    for i in lista_categoria: \n",
    "        if float(i['preco']) > float(resultado['preco']): \n",
    "            resultado = i\n",
    "     \n",
    "    return resultado\n"
   ]
  },
  {
   "cell_type": "code",
   "execution_count": 6,
   "metadata": {
    "executionInfo": {
     "elapsed": 406,
     "status": "ok",
     "timestamp": 1642879989155,
     "user": {
      "displayName": "Roberto Maia Filho",
      "photoUrl": "https://lh3.googleusercontent.com/a-/AOh14GiJyJOKk71ONv8dkTiRt8lNYmbHeHeIgIu4raE5=s64",
      "userId": "17417465616361153461"
     },
     "user_tz": 180
    },
    "id": "giszXWlJY1le"
   },
   "outputs": [],
   "source": [
    "def produto_mais_barato(dados, categoria):\n",
    "    '''\n",
    "    O parâmetro \"dados\" deve ser uma lista de dicionários representando os produtos.\n",
    "    O parâmetro \"categoria\" é uma string contendo o nome de uma categoria.\n",
    "    Essa função deverá retornar um dicionário representando o produto mais caro da categoria dada.\n",
    "    '''\n",
    "    lista_categoria = listar_por_categoria(dados, categoria)\n",
    "    \n",
    "    resultado = lista_categoria[0]\n",
    "    \n",
    "    for i in lista_categoria: \n",
    "        if float(i['preco']) < float(resultado['preco']): \n",
    "            resultado = i\n",
    "     \n",
    "    return resultado"
   ]
  },
  {
   "cell_type": "code",
   "execution_count": 7,
   "metadata": {
    "executionInfo": {
     "elapsed": 4,
     "status": "ok",
     "timestamp": 1642879991874,
     "user": {
      "displayName": "Roberto Maia Filho",
      "photoUrl": "https://lh3.googleusercontent.com/a-/AOh14GiJyJOKk71ONv8dkTiRt8lNYmbHeHeIgIu4raE5=s64",
      "userId": "17417465616361153461"
     },
     "user_tz": 180
    },
    "id": "cTSdXLYXY1lf"
   },
   "outputs": [],
   "source": [
    "def top_10_caros(dados):\n",
    "    '''\n",
    "    O parâmetro \"dados\" deve ser uma lista de dicionários representando os produtos.\n",
    "    Essa função deverá retornar uma lista de dicionários representando os 10 produtos mais caros.\n",
    "    '''\n",
    "    resultado = []\n",
    "    contador = 0\n",
    "\n",
    "    while contador < 10:\n",
    "        valor_encontrado = dados[0]\n",
    "\n",
    "        for i in dados:\n",
    "            if float(i['preco']) > float(valor_encontrado['preco']): \n",
    "                if i not in resultado:\n",
    "                    valor_encontrado = i\n",
    "\n",
    "        if valor_encontrado not in resultado:\n",
    "            resultado.append(valor_encontrado)\n",
    "        \n",
    "        contador += 1\n",
    "\n",
    "    return resultado"
   ]
  },
  {
   "cell_type": "code",
   "execution_count": 8,
   "metadata": {
    "executionInfo": {
     "elapsed": 9,
     "status": "ok",
     "timestamp": 1642879994279,
     "user": {
      "displayName": "Roberto Maia Filho",
      "photoUrl": "https://lh3.googleusercontent.com/a-/AOh14GiJyJOKk71ONv8dkTiRt8lNYmbHeHeIgIu4raE5=s64",
      "userId": "17417465616361153461"
     },
     "user_tz": 180
    },
    "id": "LT6cMReVY1lg"
   },
   "outputs": [],
   "source": [
    "def top_10_baratos(dados):\n",
    "    '''\n",
    "    O parâmetro \"dados\" deve ser uma lista de dicionários representando os produtos.\n",
    "    Essa função deverá retornar uma lista de dicionários representando os 10 produtos mais caros.\n",
    "    '''\n",
    "    resultado = []\n",
    "    contador = 0\n",
    "\n",
    "    while contador < 10:\n",
    "        valor_encontrado = dados[0]\n",
    "\n",
    "        for i in dados:\n",
    "            if float(i['preco']) < float(valor_encontrado['preco']): \n",
    "                if i not in resultado:\n",
    "                    valor_encontrado = i\n",
    "\n",
    "        if valor_encontrado not in resultado:\n",
    "            resultado.append(valor_encontrado)\n",
    "        \n",
    "        contador += 1\n",
    "\n",
    "    return resultado"
   ]
  },
  {
   "cell_type": "code",
   "execution_count": 9,
   "metadata": {
    "executionInfo": {
     "elapsed": 3,
     "status": "ok",
     "timestamp": 1642879996806,
     "user": {
      "displayName": "Roberto Maia Filho",
      "photoUrl": "https://lh3.googleusercontent.com/a-/AOh14GiJyJOKk71ONv8dkTiRt8lNYmbHeHeIgIu4raE5=s64",
      "userId": "17417465616361153461"
     },
     "user_tz": 180
    },
    "id": "dQCIz4RZRaG8"
   },
   "outputs": [],
   "source": [
    "def imprime_retorno(dados):\n",
    "\n",
    "    for dado in dados:\n",
    "        print(dado)\n",
    "    return"
   ]
  },
  {
   "cell_type": "code",
   "execution_count": 10,
   "metadata": {
    "executionInfo": {
     "elapsed": 417,
     "status": "ok",
     "timestamp": 1642880002074,
     "user": {
      "displayName": "Roberto Maia Filho",
      "photoUrl": "https://lh3.googleusercontent.com/a-/AOh14GiJyJOKk71ONv8dkTiRt8lNYmbHeHeIgIu4raE5=s64",
      "userId": "17417465616361153461"
     },
     "user_tz": 180
    },
    "id": "XlPflBy2Y1lh"
   },
   "outputs": [],
   "source": [
    "def menu(dados):\n",
    "    '''\n",
    "    O parâmetro \"dados\" deve ser uma lista de dicionários representando os produtos.\n",
    "    Essa função deverá, em loop, realizar as seguintes ações:\n",
    "    - Exibir as seguintes opções:\n",
    "        1. Listar categorias\n",
    "        2. Listar produtos de uma categoria\n",
    "        3. Produto mais caro por categoria\n",
    "        4. Produto mais barato por categoria\n",
    "        5. Top 10 produtos mais caros\n",
    "        6. Top 10 produtos mais baratos\n",
    "        0. Sair\n",
    "    - Ler a opção do usuário.\n",
    "    - No caso de opção inválida, imprima uma mensagem de erro.\n",
    "    - No caso das opções 2, 3 ou 4, pedir para o usuário digitar a categoria desejada.\n",
    "    - Chamar a função adequada para tratar o pedido do usuário e salvar seu retorno.\n",
    "    - Imprimir o retorno salvo. \n",
    "    O loop encerra quando a opção do usuário for 0.\n",
    "    '''    \n",
    "    opcao = None\n",
    "\n",
    "    while opcao != 0:\n",
    "        cabecalho()\n",
    "        print(\"1. Listar categorias\")\n",
    "        print(\"2. Listar produtos de uma categoria\")\n",
    "        print(\"3. Produto mais caro por categoria\")\n",
    "        print(\"4. Produto mais barato por categoria\")\n",
    "        print(\"5. Top 10 produtos mais caros\")\n",
    "        print(\"6. Top 10 produtos mais baratos\")\n",
    "        print(\"0. Sair\")\n",
    "        print()\n",
    "        linha()\n",
    "        opcao = input(\"Digite a opção desejada: \")\n",
    "        linha()\n",
    "        if opcao.isnumeric():\n",
    "            opcao = int(opcao)\n",
    "            if opcao != 0:\n",
    "                opcao, retorno, titulo = valida_opcao(opcao, dados)\n",
    "\n",
    "                if retorno:\n",
    "                    mostrar_retorno(opcao, titulo, retorno)\n",
    "                    msg_info()\n",
    "                \n",
    "        else:\n",
    "            if msg_erro(\"Opcao Invalida\"):\n",
    "                opcao = None\n",
    "            else:\n",
    "                opcao = 0\n",
    "\n",
    "\n",
    "    fim_de_programa()\n",
    "    "
   ]
  },
  {
   "cell_type": "code",
   "execution_count": 11,
   "metadata": {},
   "outputs": [],
   "source": [
    "def linha():\n",
    "     print(\"=======================================\")"
   ]
  },
  {
   "cell_type": "code",
   "execution_count": 12,
   "metadata": {},
   "outputs": [],
   "source": [
    "def limpa_tela():\n",
    "    os.system('clear')"
   ]
  },
  {
   "cell_type": "code",
   "execution_count": 13,
   "metadata": {},
   "outputs": [],
   "source": [
    "def cabecalho():\n",
    "    limpa_tela()\n",
    "    linha()\n",
    "    print(f\"==    Projeto Modulo 1   ver. {versao}   ==\")\n",
    "    print(f\"==    Autor.: Adriano A. Carvalho    ==\")\n",
    "    print(f\"==    Data..: 29/01/2022             ==\")\n",
    "    linha()\n",
    "    print()\n",
    "    print(f\"             MENU PRINCIPAL \")\n",
    "    linha()\n",
    "    print()"
   ]
  },
  {
   "cell_type": "code",
   "execution_count": 14,
   "metadata": {},
   "outputs": [],
   "source": [
    "def msg_erro(msg):\n",
    "    print(f\"ERRO.: {msg}\")\n",
    "    opcao = input(\"Continuar? (S/N) \")\n",
    "    if opcao.upper() == \"S\":\n",
    "        return True\n",
    "    else: \n",
    "        return False"
   ]
  },
  {
   "cell_type": "code",
   "execution_count": 15,
   "metadata": {},
   "outputs": [],
   "source": [
    "def msg_info():\n",
    "    opcao = input(\"Pressione qualquer tecla para continuar. \")\n",
    "    if opcao.upper() == \"S\":\n",
    "        return True\n",
    "    else: \n",
    "        return False"
   ]
  },
  {
   "cell_type": "code",
   "execution_count": 16,
   "metadata": {},
   "outputs": [],
   "source": [
    "def fim_de_programa():\n",
    "    limpa_tela()\n",
    "    linha()\n",
    "    print(f\"==          FIM DE PROGRAMA          ==\")\n",
    "    linha()\n"
   ]
  },
  {
   "cell_type": "code",
   "execution_count": 17,
   "metadata": {},
   "outputs": [],
   "source": [
    "def valida_opcao(opcao, dados):\n",
    "    titulo = None\n",
    "    retorno = []\n",
    "    verifica = True\n",
    "\n",
    "\n",
    "    if opcao == 1: \n",
    "        titulo = \"CATEGORIAS\"\n",
    "        retorno = listar_categorias(dados)\n",
    "    elif opcao == 2: \n",
    "        titulo = \"PRODUTOS DA CATEGORIA\"      \n",
    "        while verifica:\n",
    "            categoria = input(\"Digite a categoria: \")\n",
    "            if categoria.lower() in listar_categorias(dados):\n",
    "                verifica = False\n",
    "                retorno = listar_por_categoria(dados, categoria)\n",
    "            else: \n",
    "                verifica = msg_erro(\"Categoria inválida\")\n",
    "                          \n",
    "    elif opcao == 3:\n",
    "        titulo = \"PRODUTO MAIS CARO POR CATEGORIA\"\n",
    "        while verifica:\n",
    "            categoria = input(\"Digite a categoria: \")\n",
    "            if categoria.lower() in listar_categorias(dados):\n",
    "                verifica = False\n",
    "                retorno = produto_mais_caro(dados, categoria)\n",
    "            else: \n",
    "                verifica = msg_erro(\"Categoria inválida\")\n",
    "        \n",
    "    elif opcao == 4:     \n",
    "        titulo = \"PRODUTO MAIS BARATO POR CATEGORIA\"\n",
    "        while verifica:\n",
    "            categoria = input(\"Digite a categoria: \")\n",
    "            if categoria.lower() in listar_categorias(dados):\n",
    "                verifica = False\n",
    "                retorno = produto_mais_barato(dados, categoria)\n",
    "            else: \n",
    "                verifica = msg_erro(\"Categoria inválida\")\n",
    "\n",
    "    elif opcao == 5:    \n",
    "        titulo = \"TOP 10 PRODUTOS MAIS CAROS\" \n",
    "        retorno = top_10_caros(dados)\n",
    "    elif opcao == 6:\n",
    "        titulo = \"TOP 10 PRODUTOS MAIS BARATOS\"\n",
    "        retorno = top_10_baratos(dados)     \n",
    "    elif opcao == 0:\n",
    "        pass                 \n",
    "    else:\n",
    "        if msg_erro(\"Opcao Invalida\"):\n",
    "            opcao = None\n",
    "        else:\n",
    "            opcao = 0 \n",
    "\n",
    "    return opcao, retorno, titulo"
   ]
  },
  {
   "cell_type": "code",
   "execution_count": 18,
   "metadata": {},
   "outputs": [],
   "source": [
    "def mostrar_retorno(opcao, titulo, lista):\n",
    "    indice = 1 \n",
    "    print()\n",
    "    print(f\"RELATÓRIO.: {titulo}\")\n",
    "    linha()\n",
    "    if opcao in (3, 4):\n",
    "        print(lista)\n",
    "    elif opcao in (5, 6):\n",
    "        for i in lista:\n",
    "            print(i)\n",
    "    else:\n",
    "        for i in lista:\n",
    "            if type(i) == str:\n",
    "                print(f\"{indice}. {i.capitalize()}\")\n",
    "            else:\n",
    "                print(f\"{indice}. {i}\")\n",
    "\n",
    "            indice += 1\n"
   ]
  },
  {
   "cell_type": "code",
   "execution_count": 19,
   "metadata": {
    "colab": {
     "base_uri": "https://localhost:8080/"
    },
    "executionInfo": {
     "elapsed": 75370,
     "status": "ok",
     "timestamp": 1642880484186,
     "user": {
      "displayName": "Roberto Maia Filho",
      "photoUrl": "https://lh3.googleusercontent.com/a-/AOh14GiJyJOKk71ONv8dkTiRt8lNYmbHeHeIgIu4raE5=s64",
      "userId": "17417465616361153461"
     },
     "user_tz": 180
    },
    "id": "YOjpWN6nY1lj",
    "outputId": "df0b80d1-8f09-4638-dcd4-0d9c9a56d5dd"
   },
   "outputs": [
    {
     "name": "stdout",
     "output_type": "stream",
     "text": [
      "\u001b[H\u001b[2J=======================================\n",
      "==    Projeto Modulo 1   ver. 1.0b   ==\n",
      "==    Autor.: Adriano A. Carvalho    ==\n",
      "==    Data..: 29/01/2022             ==\n",
      "=======================================\n",
      "\n",
      "             MENU PRINCIPAL \n",
      "=======================================\n",
      "\n",
      "1. Listar categorias\n",
      "2. Listar produtos de uma categoria\n",
      "3. Produto mais caro por categoria\n",
      "4. Produto mais barato por categoria\n",
      "5. Top 10 produtos mais caros\n",
      "6. Top 10 produtos mais baratos\n",
      "0. Sair\n",
      "\n",
      "=======================================\n",
      "Digite a opção desejada: 0\n",
      "=======================================\n",
      "\u001b[H\u001b[2J=======================================\n",
      "==          FIM DE PROGRAMA          ==\n",
      "=======================================\n"
     ]
    }
   ],
   "source": [
    "# Programa Principal - não modificar!\n",
    "d = obter_dados()\n",
    "menu(d)"
   ]
  },
  {
   "cell_type": "code",
   "execution_count": null,
   "metadata": {},
   "outputs": [],
   "source": []
  }
 ],
 "metadata": {
  "colab": {
   "name": "projeto_1.ipynb",
   "provenance": []
  },
  "interpreter": {
   "hash": "9e1544ece40983b9dcb10e0aa1f5d0cdb8d9e539b9b8df5e9e5017ad7f05ebe2"
  },
  "kernelspec": {
   "display_name": "Python 3 (ipykernel)",
   "language": "python",
   "name": "python3"
  },
  "language_info": {
   "codemirror_mode": {
    "name": "ipython",
    "version": 3
   },
   "file_extension": ".py",
   "mimetype": "text/x-python",
   "name": "python",
   "nbconvert_exporter": "python",
   "pygments_lexer": "ipython3",
   "version": "3.10.1"
  }
 },
 "nbformat": 4,
 "nbformat_minor": 1
}
