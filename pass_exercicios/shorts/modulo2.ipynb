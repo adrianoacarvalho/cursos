{
 "cells": [
  {
   "cell_type": "code",
   "execution_count": null,
   "metadata": {},
   "outputs": [],
   "source": [
    "'''\n",
    "Programa.: modulo2.ipynb\n",
    "Objetivo.: Exercícios módulo 2 Pass\n",
    "Autor....: Adriano A. Carvalho\n",
    "Data.....: 24/03/2022\n",
    "'''"
   ]
  },
  {
   "cell_type": "markdown",
   "metadata": {},
   "source": [
    "1. Faça um programa que olhe todos os itens de uma lista e diga quantos deles são pares."
   ]
  },
  {
   "cell_type": "code",
   "execution_count": 6,
   "metadata": {},
   "outputs": [
    {
     "name": "stdout",
     "output_type": "stream",
     "text": [
      "A quantidade de números pares:  4\n"
     ]
    }
   ],
   "source": [
    "def conta_pares(lista):\n",
    "    quantidade = 0\n",
    "    for i in lista:\n",
    "        if i % 2 == 0: # o % trás o módulo do número, se for par ele retorna 0\n",
    "            quantidade += 1\n",
    "\n",
    "    return quantidade #retorna a quantidade de pares\n",
    "\n",
    "\n",
    "\n",
    "lista = [1, 2, 3, 4, 5, 6, 7, 8]\n",
    "\n",
    "print(\"A quantidade de números pares: \",conta_pares(lista))"
   ]
  },
  {
   "cell_type": "markdown",
   "metadata": {},
   "source": [
    "2. Faça um programa que peça para o usuário digitar uma palavra e imprima cada letra em uma linha."
   ]
  },
  {
   "cell_type": "code",
   "execution_count": 5,
   "metadata": {},
   "outputs": [
    {
     "name": "stdout",
     "output_type": "stream",
     "text": [
      "p\n",
      "a\n",
      "l\n",
      "a\n",
      "v\n",
      "r\n",
      "a\n"
     ]
    }
   ],
   "source": [
    "palavra = input(\"Digite uma palavra:\")\n",
    "\n",
    "for i in palavra:\n",
    "    print(i)"
   ]
  },
  {
   "cell_type": "markdown",
   "metadata": {},
   "source": [
    "3. Faça uma função que recebe duas listas e retorna a soma item a item dessas listas. Ex.: Se a função receber as listas [1,4,3] e [3,5,1], então a função deve retornar [1+3, 4+5, 3+1] = [4, 9, 4]."
   ]
  },
  {
   "cell_type": "code",
   "execution_count": 12,
   "metadata": {},
   "outputs": [
    {
     "name": "stdout",
     "output_type": "stream",
     "text": [
      "Teste 1.:  [4, 9, 4]\n",
      "Teste 2.:  [2, 4, 6, 4]\n",
      "Teste 3.:  [2, 3, 4, 3]\n"
     ]
    }
   ],
   "source": [
    "def soma_lista(lista1, lista2):   #função está preparada para receber qualquer tamanho de lista\n",
    "    if len(lista1) >= len(lista2):\n",
    "        listanova = lista1.copy()\n",
    "        contador = 0\n",
    "        for i in lista2:\n",
    "            listanova[contador] += i\n",
    "            contador += 1\n",
    "    else:\n",
    "        listanova = lista2.copy()\n",
    "        contador = 0\n",
    "        for i in lista1:\n",
    "            listanova[contador] += i\n",
    "            contador += 1\n",
    "\n",
    "    return listanova\n",
    "\n",
    "\n",
    "lista_1 = [1,4,3]\n",
    "lista_2 = [3,5,1]\n",
    "\n",
    "print(\"Teste 1.: \", soma_lista(lista_1,lista_2))\n",
    "\n",
    "lista_3 = [1, 2, 3, 4]\n",
    "lista_4 = [1, 2, 3]\n",
    "\n",
    "print(\"Teste 2.: \", soma_lista(lista_3,lista_4))\n",
    "\n",
    "lista_5 = [1, 1, 1]\n",
    "lista_6 = [1, 2, 3, 3]\n",
    "\n",
    "print(\"Teste 3.: \", soma_lista(lista_5,lista_6))\n",
    "\n"
   ]
  },
  {
   "cell_type": "markdown",
   "metadata": {},
   "source": [
    "4. Crie um dicionário cujas chaves são os meses do ano e os valores são a duração (em dias) de cada mês."
   ]
  },
  {
   "cell_type": "code",
   "execution_count": 14,
   "metadata": {},
   "outputs": [],
   "source": [
    "meses = {\"Janeiro\": 31, \n",
    "         \"Fevereiro\": 28, \n",
    "         \"Março\": 31, \n",
    "         \"Abril\": 30, \n",
    "         \"Maio\": 31,\n",
    "         \"Junho\": 30,\n",
    "         \"Julho\": 31,\n",
    "         \"Agosto\": 31,\n",
    "         \"Setembro\": 30,\n",
    "         \"Outubro\": 31,\n",
    "         \"Novembro\": 30,\n",
    "         \"Dezembro\": 31,\n",
    "         }"
   ]
  },
  {
   "cell_type": "markdown",
   "metadata": {},
   "source": [
    "5. Imprima as chaves seguidas dos seus valores para dicionário criado no exercício anterior.\n",
    "Exemplo:\n",
    "\n",
    "Janeiro - 31\n",
    "Fevereiro - 28\n",
    "Março - 31\n",
    "Etc..."
   ]
  },
  {
   "cell_type": "code",
   "execution_count": 16,
   "metadata": {},
   "outputs": [
    {
     "name": "stdout",
     "output_type": "stream",
     "text": [
      "Janeiro  -  31\n",
      "Fevereiro  -  28\n",
      "Março  -  31\n",
      "Abril  -  30\n",
      "Maio  -  31\n",
      "Junho  -  30\n",
      "Julho  -  31\n",
      "Agosto  -  31\n",
      "Setembro  -  30\n",
      "Outubro  -  31\n",
      "Novembro  -  30\n",
      "Dezembro  -  31\n"
     ]
    }
   ],
   "source": [
    "for i in meses:\n",
    "    print(i, \" - \", meses[i])"
   ]
  }
 ],
 "metadata": {
  "interpreter": {
   "hash": "aee8b7b246df8f9039afb4144a1f6fd8d2ca17a180786b69acc140d282b71a49"
  },
  "kernelspec": {
   "display_name": "Python 3.10.1 64-bit",
   "language": "python",
   "name": "python3"
  },
  "language_info": {
   "codemirror_mode": {
    "name": "ipython",
    "version": 3
   },
   "file_extension": ".py",
   "mimetype": "text/x-python",
   "name": "python",
   "nbconvert_exporter": "python",
   "pygments_lexer": "ipython3",
   "version": "3.10.1"
  },
  "orig_nbformat": 4
 },
 "nbformat": 4,
 "nbformat_minor": 2
}
