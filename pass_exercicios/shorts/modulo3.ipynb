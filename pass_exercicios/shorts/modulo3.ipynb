{
 "cells": [
  {
   "cell_type": "code",
   "execution_count": null,
   "metadata": {},
   "outputs": [],
   "source": [
    "'''\n",
    "Programa.: modulo3.ipynb\n",
    "Objetivo.: Exercícios módulo 2 Pass\n",
    "Autor....: Adriano A. Carvalho\n",
    "Data.....: 24/03/2022\n",
    "'''"
   ]
  },
  {
   "cell_type": "markdown",
   "metadata": {},
   "source": [
    "1 - Neste exercício você deve criar um programa que abra o arquivo \"alunos.csv\" e imprima o conteúdo do arquivo linha a linha.\n",
    "Note que esse é o primeiro exercício de uma sequência, então o seu código pode ser reaproveitado nos exercícios seguintes. Dito isso, a recomendação é usar a biblioteca CSV para ler o arquivo mesmo que não seja realmente necessário para esse primeiro item."
   ]
  },
  {
   "cell_type": "code",
   "execution_count": 8,
   "metadata": {},
   "outputs": [
    {
     "name": "stdout",
     "output_type": "stream",
     "text": [
      "RA, Nome, Frequencia, Prova_1, Prova_2, Prova_3, Prova_4\n",
      "110201, Antonio Carlos, 20, 6.5, 8.5, 7, 6\n",
      "110212, Ana Beatriz, 20, 7, 7, 7, 8\n",
      "110218, Carlos Vernes, 17, 7, 7, 7, 7\n",
      "110307, Francisco Cunha, 20, 9, 8.5, 8.5, 10\n",
      "110275, Sandra Rosa, 15, 6.5, 7.5, 7, 7\n",
      "110281, Juliana Arruda, 18, 7.5, 7, 7.5, 8\n",
      "110301, Joao Galo, 20, 5, 6.5, 7, 5\n",
      "110263, José Valente, 20, 10, 10, 10, 10\n",
      "110271, Maria Ferreira, 19, 9.5, 8, 7, 10\n",
      "110236, Adriana Tavares, 20, 8, 8, 8, 8\n"
     ]
    }
   ],
   "source": [
    "import csv\n",
    "\n",
    "with open('alunos.csv', newline='') as csvfile:\n",
    "    csvreader = csv.reader(csvfile, delimiter=',', quotechar='|')\n",
    "    for linha in csvreader:\n",
    "        print(', '.join(linha))\n",
    "    csvfile.close()"
   ]
  },
  {
   "cell_type": "markdown",
   "metadata": {},
   "source": [
    "2 - Para o segundo exercício, você deve criar um programa que realize uma cópia do arquivo \"alunos.csv\". Essa cópia deve ser um arquivo chamado \"alunos_copia.csv\".\n",
    "Novamente, aqui você também não precisa utilizar a biblioteca CSV mas se usar, seu código pode ser reutilizado na próxima questão sem muitas modificações.\n"
   ]
  },
  {
   "cell_type": "code",
   "execution_count": 17,
   "metadata": {},
   "outputs": [],
   "source": [
    "import csv\n",
    "\n",
    "with open('alunos.csv', newline='') as csvorigem:\n",
    "    csvreader = csv.reader(csvorigem, delimiter=',', quotechar='|')\n",
    "    csvdestino = open(\"alunos_copia.csv\", \"w\")\n",
    "    c = csv.writer(csvdestino)\n",
    "    for linha in csvreader:\n",
    "        c.writerow(linha)\n",
    "    \n",
    "    csvorigem.close()\n",
    "    csvdestino.close()"
   ]
  },
  {
   "cell_type": "markdown",
   "metadata": {},
   "source": [
    "3 - Finalmente chegamos ao último exercício dessa sequência relacionada à manipulação de arquivos.\n",
    "Neste exercício você deve criar um novo arquivo chamado \"alunos_media.csv\". Esse novo arquivo é uma cópia de \"alunos.csv\" porém com uma coluna a mais chamada \"Média\" que vai abrigar os valores das médias das provas de cada aluno da lista.\n",
    "Se você utilizou a biblioteca CSV para realizar os dois primeiros exercícios, muito será reaproveitado aqui. A biblioteca CSV permite a interpretação de cada linha como listas, que são fáceis de manipular."
   ]
  },
  {
   "cell_type": "code",
   "execution_count": 30,
   "metadata": {},
   "outputs": [],
   "source": [
    "import csv\n",
    "\n",
    "with open('alunos.csv', newline='') as csvorigem:\n",
    "    csvreader = csv.reader(csvorigem, delimiter=',', quotechar='|')\n",
    "    csvdestino = open(\"alunos_media.csv\", \"w\")\n",
    "    c = csv.writer(csvdestino)\n",
    "    contador = 0\n",
    "    for linha in csvreader:\n",
    "        if contador == 0:\n",
    "            linha.append(\"Média\")\n",
    "            c.writerow(linha)\n",
    "            contador += 1\n",
    "        else: \n",
    "            count = 0\n",
    "            media = 0\n",
    "            for x in linha:\n",
    "                if count not in {0,1,2}:   \n",
    "                    media += float(x)\n",
    "                count +=1\n",
    "            linha.append(media/4)\n",
    "            c.writerow(linha)\n",
    "\n",
    "    \n",
    "    csvorigem.close()\n",
    "    csvdestino.close()"
   ]
  },
  {
   "cell_type": "markdown",
   "metadata": {},
   "source": [
    "4 - Você conhece Star Wars? Se trata, obviamente, da famosa saga espacial criada por George Lucas em 1977 e que deu origem a símbolos do cinema e da cultura pop com o imponente vilão Darth Vader ou o simpático robô R2-D2. A ideia desse exercício é justamente extrair informações do personagem Darth Vader através de uma API de Star Wars chamada SWAPI.\n",
    "Utilize a URL \"https://swapi.dev/api/people/4/\" para fazer a requisição dos dados de Darth Vader e extraia as informações \"name\" (nome), \"height\" (altura), \"mass\" (massa) e \"birth_year\" (ano de nascimento) e imprima cada dado em uma linha.\n",
    "Dica: caso não se lembre de como fazer isso, assista novamente a aula sobre API porque o exemplo da aula pode te ajudar."
   ]
  },
  {
   "cell_type": "code",
   "execution_count": null,
   "metadata": {},
   "outputs": [],
   "source": [
    "%pip install requests #para instalar o modulo requests"
   ]
  },
  {
   "cell_type": "code",
   "execution_count": 4,
   "metadata": {},
   "outputs": [
    {
     "name": "stdout",
     "output_type": "stream",
     "text": [
      "Darth Vader\n",
      "202\n",
      "136\n",
      "41.9BBY\n"
     ]
    }
   ],
   "source": [
    "import requests\n",
    "\n",
    "\n",
    "request = requests.get(\"https://swapi.dev/api/people/4/\")\n",
    "dart_vader = request.json()\n",
    "\n",
    "print(dart_vader[\"name\"])\n",
    "print(dart_vader[\"height\"])\n",
    "print(dart_vader[\"mass\"])\n",
    "print(dart_vader[\"birth_year\"])\n"
   ]
  },
  {
   "cell_type": "markdown",
   "metadata": {},
   "source": [
    "5 - Em 2019 surgiram os primeiros casos de COVID-19 que se alastrou pelo mundo resultando numa pandemia. A proposta deste exercício é utilizar uma API com informações de COVID-19 do mundo todo desde o início da proliferação e descobrir que dia o Brasil confirmou o primeiro caso de Coronavírus.\n",
    "Para fazer isso, utilize a URL \"https://api.covid19api.com/country/brazil\" em seu código. Ela retorna uma lista de dicionários, onde cada dicionário traz informações através das chaves:\n",
    "\"ID\", \"Country\", \"CountryCode\", \"Province\", \"City\", \"CityCode\",\"Lat\",\"Lon\",\"Confirmed\",\"Deaths\", \"Recovered\", \"Active\" e \"Date\".\n",
    "Utilize essas informações e retorne a data em que o Brasil confirmou o primeiro caso de COVID."
   ]
  },
  {
   "cell_type": "code",
   "execution_count": 11,
   "metadata": {},
   "outputs": [
    {
     "name": "stdout",
     "output_type": "stream",
     "text": [
      "2020-02-26T00:00:00Z\n"
     ]
    }
   ],
   "source": [
    "dados_covid = requests.get(\"https://api.covid19api.com/country/brazil\")\n",
    "\n",
    "dicionario = dados_covid.json()\n",
    "\n",
    "for i in dicionario:\n",
    "    if i[\"Confirmed\"] == 1:\n",
    "        print(i[\"Date\"])\n",
    "        break"
   ]
  }
 ],
 "metadata": {
  "interpreter": {
   "hash": "aee8b7b246df8f9039afb4144a1f6fd8d2ca17a180786b69acc140d282b71a49"
  },
  "kernelspec": {
   "display_name": "Python 3.10.1 64-bit",
   "language": "python",
   "name": "python3"
  },
  "language_info": {
   "codemirror_mode": {
    "name": "ipython",
    "version": 3
   },
   "file_extension": ".py",
   "mimetype": "text/x-python",
   "name": "python",
   "nbconvert_exporter": "python",
   "pygments_lexer": "ipython3",
   "version": "3.10.1"
  },
  "orig_nbformat": 4
 },
 "nbformat": 4,
 "nbformat_minor": 2
}
