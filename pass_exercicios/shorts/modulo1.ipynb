{
 "cells": [
  {
   "cell_type": "code",
   "execution_count": null,
   "metadata": {},
   "outputs": [],
   "source": [
    "'''\n",
    "Programa.: modulo1.ipynb\n",
    "Objetivo.: Exercícios módulo 1 Pass\n",
    "Autor....: Adriano A. Carvalho\n",
    "Data.....: 23/03/2022\n",
    "'''"
   ]
  },
  {
   "cell_type": "markdown",
   "metadata": {},
   "source": [
    "1. Faça um programa que peça um valor monetário e diminuao em 15%. Seu programa deve imprimir a mensagem \"O novo valor é [valor]\""
   ]
  },
  {
   "cell_type": "code",
   "execution_count": 3,
   "metadata": {},
   "outputs": [
    {
     "name": "stdout",
     "output_type": "stream",
     "text": [
      "O novo valor é 85.00\n"
     ]
    }
   ],
   "source": [
    "try: \n",
    "    valor_str = input(\"Digite o valor para calculo:\")\n",
    "    if valor_str.isnumeric():\n",
    "        valor = float(valor_str)\n",
    "        valor = valor - (valor*0.15)\n",
    "        print(f\"O novo valor é {valor:.2f}\")\n",
    "    else: \n",
    "        print(f\"O valor: {valor_str} não é válido!\")\n",
    "except Exception as e:\n",
    "    print(str(e))"
   ]
  },
  {
   "cell_type": "markdown",
   "metadata": {},
   "source": [
    "2. Faça um programa que leia a validade das informações:\n",
    "   <p>a. Idade: entre 0 e 150\n",
    "   <p>b. Salário: maior que 0\n",
    "   <p>c. Sexo: M, F ou Outro\n",
    "\n",
    "    O programa deve imprimir uma mensagem de erro para cada informação inválida."
   ]
  },
  {
   "cell_type": "code",
   "execution_count": 13,
   "metadata": {},
   "outputs": [
    {
     "name": "stdout",
     "output_type": "stream",
     "text": [
      "As respostas são: \n",
      "Idade.: 22\n",
      "Salario.: 2000.00\n",
      "Sexo.: m\n"
     ]
    }
   ],
   "source": [
    "opcao = True\n",
    "\n",
    "while opcao:\n",
    "    idade = input(\"Digite a idade: \")\n",
    "    if idade.isnumeric():\n",
    "        idade = int(idade)\n",
    "        if idade < 0 or idade > 150:\n",
    "            print(\"A idade invalida! Digite novamente!\")\n",
    "        else:\n",
    "            opcao = False\n",
    "    else: \n",
    "        print(\"A idade invalida! Digite novamente!\")\n",
    "\n",
    "opcao = True\n",
    "\n",
    "while opcao:\n",
    "    salario = input(\"Digite o Salário: \")\n",
    "    if salario.isnumeric():\n",
    "        salario = float(salario)\n",
    "        if salario < 0:\n",
    "            print(\"O salario invalido! Digite novamente!\")\n",
    "        else:\n",
    "            opcao = False\n",
    "    else: \n",
    "        print(\"O salário é invalido! Digite novamente!\")\n",
    "\n",
    "\n",
    "opcao = True\n",
    "sexo = {\"M\", \"F\", \"OUTRO\"}\n",
    "\n",
    "while opcao:\n",
    "    sexo_resp = input(\"Digite o Sexo (M, F ou Outro): \")\n",
    "    if sexo_resp.upper() not in sexo:\n",
    "        print(\"Sexo inválido! Digite novamente!\")\n",
    "    else:\n",
    "        opcao = False\n",
    "\n",
    "print(f\"As respostas são: \")\n",
    "print(f\"Idade.: {idade}\")\n",
    "print(f\"Salario.: {salario:.2f}\")\n",
    "print(f\"Sexo.: {sexo_resp}\")\n"
   ]
  },
  {
   "cell_type": "markdown",
   "metadata": {},
   "source": [
    "3. Vamos fazer um programa para verificar quem é o assassino de um crime. Para descobrir o assassino, a polícia faz um pequeno questionário com 5 perguntas onde a resposta só pode ser sim ou não: <br>\n",
    "<p>a. Mora perto da vítima?\n",
    "<p>b. Já trabalhou com a vítima?\n",
    "<p>c. Telefonou para a vítima?\n",
    "<p>d. Esteve no local do Crime?\n",
    "<p>e. Devia para a vítima?\n",
    "\n",
    "Cada resposta sim dá um ponto para o suspeito. A policia considera que os suspeitos com 5 pontos são os assassinos, com 4 a 3 pontos são cúmplices e 2 pontos são apenas suspeitos, necessitando outras investigações. Valores iguais ou abaixo de 1 são liberados."
   ]
  },
  {
   "cell_type": "code",
   "execution_count": 9,
   "metadata": {},
   "outputs": [
    {
     "name": "stdout",
     "output_type": "stream",
     "text": [
      "Responda sim ou nao para as perguntas a seguir:\n",
      "O suspeito é o assassino\n",
      "5\n",
      "Fim do Programa\n"
     ]
    }
   ],
   "source": [
    "#Inicio do Programa\n",
    "pontos = 0 \n",
    "\n",
    "print('Responda sim ou nao para as perguntas a seguir:')\n",
    "questao_a = input('a) Telefonou para a vítima? sim/nao ')\n",
    "questao_b = input('b) Esteve no local do crime? sim/nao ')\n",
    "questao_c = input('c) Mora perto da vítima? sim/nao ')\n",
    "questao_d = input('d) Devia para a vítima? sim/nao ')\n",
    "questao_e = input('e) Já trabalhou com a vítima? sim/nao ')\n",
    "\n",
    "#Meio do Programa\n",
    "if (questao_a.upper() == 'SIM' ):\n",
    "    pontos += 1\n",
    "\n",
    "if (questao_b.upper() == 'SIM' ):\n",
    "    pontos += 1\n",
    "\n",
    "if (questao_c.upper() == 'SIM' ):\n",
    "    pontos += 1\n",
    "\n",
    "if (questao_d.upper() == 'SIM' ):\n",
    "    pontos += 1\n",
    "\n",
    "if (questao_e.upper() == 'SIM' ):\n",
    "    pontos += 1\n",
    "\n",
    "if pontos == 5:\n",
    "    print('O suspeito é o assassino')\n",
    "elif pontos == 4 or pontos == 3:\n",
    "    print('O suspeito é cúmplice')\n",
    "elif pontos == 2:\n",
    "    print('O suspeito é apenas suspeito, necessita outras investigações')\n",
    "elif pontos < 2:\n",
    "    print('O suspeito pode ser liberado')\n",
    "else:\n",
    "    print('Verifique novamente as perguntas')\n",
    "\n",
    "print(pontos)\n",
    "#Fim do Programa\n",
    "print('Fim do Programa')"
   ]
  },
  {
   "cell_type": "markdown",
   "metadata": {},
   "source": [
    "4. Faça um programa que imprima a tabuada de 9(de 9x1 a 9x10) usando loops."
   ]
  },
  {
   "cell_type": "code",
   "execution_count": 7,
   "metadata": {},
   "outputs": [
    {
     "name": "stdout",
     "output_type": "stream",
     "text": [
      "9 x 1 = 9\n",
      "9 x 2 = 18\n",
      "9 x 3 = 27\n",
      "9 x 4 = 36\n",
      "9 x 5 = 45\n",
      "9 x 6 = 54\n",
      "9 x 7 = 63\n",
      "9 x 8 = 72\n",
      "9 x 9 = 81\n",
      "9 x 10 = 90\n"
     ]
    }
   ],
   "source": [
    "for i in range(11):\n",
    "    if i > 0:\n",
    "        valor = i * 9\n",
    "        print(f\"9 x {i} = {valor:.0f}\")"
   ]
  }
 ],
 "metadata": {
  "interpreter": {
   "hash": "aee8b7b246df8f9039afb4144a1f6fd8d2ca17a180786b69acc140d282b71a49"
  },
  "kernelspec": {
   "display_name": "Python 3.10.1 64-bit",
   "language": "python",
   "name": "python3"
  },
  "language_info": {
   "codemirror_mode": {
    "name": "ipython",
    "version": 3
   },
   "file_extension": ".py",
   "mimetype": "text/x-python",
   "name": "python",
   "nbconvert_exporter": "python",
   "pygments_lexer": "ipython3",
   "version": "3.10.1"
  },
  "orig_nbformat": 4
 },
 "nbformat": 4,
 "nbformat_minor": 2
}
